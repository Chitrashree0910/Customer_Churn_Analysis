{
 "cells": [
  {
   "cell_type": "markdown",
   "metadata": {},
   "source": [
    "## Data Cleaning"
   ]
  },
  {
   "cell_type": "markdown",
   "metadata": {},
   "source": [
    "### 1. Converting `TotalCharges` to Numeric\n",
    "- The `TotalCharges` column was initially stored as `TEXT`, making numerical operations impossible.\n",
    "- Steps taken:\n",
    "  1. Converted empty values (`''`) to `NULL`.\n",
    "  2. Created a new column (`TotalCharges_REAL`) with `REAL` datatype.\n",
    "  3. Transferred values from `TotalCharges` to `TotalCharges_REAL`.\n",
    "  4. Dropped the old `TotalCharges` column and renamed `TotalCharges_REAL` to `TotalCharges`.\n",
    "\n",
    "### 2. Standardizing Categorical Values\n",
    "- Some categorical columns had inconsistent values:\n",
    "  - `\"No phone service\"` and `\"No internet service\"`\n",
    "- These were replaced with `\"No\"` for consistency in the following columns:\n",
    "  - `MultipleLines`, `OnlineSecurity`, `OnlineBackup`, `DeviceProtection`, `TechSupport`, `StreamingTV`, `StreamingMovies`"
   ]
  },
  {
   "cell_type": "code",
   "execution_count": 9,
   "metadata": {},
   "outputs": [],
   "source": [
    "%reload_ext sql\n",
    "%sql sqlite:///../Database/customer_churn.db"
   ]
  },
  {
   "cell_type": "code",
   "execution_count": 10,
   "metadata": {},
   "outputs": [
    {
     "name": "stdout",
     "output_type": "stream",
     "text": [
      " * sqlite:///../Database/customer_churn.db\n",
      "0 rows affected.\n",
      "Done.\n",
      "7043 rows affected.\n",
      "Done.\n",
      "Done.\n",
      "0 rows affected.\n",
      "0 rows affected.\n",
      "0 rows affected.\n",
      "0 rows affected.\n",
      "0 rows affected.\n",
      "0 rows affected.\n",
      "0 rows affected.\n"
     ]
    },
    {
     "data": {
      "text/plain": [
       "[]"
      ]
     },
     "execution_count": 10,
     "metadata": {},
     "output_type": "execute_result"
    }
   ],
   "source": [
    "%%sql\n",
    "\n",
    "UPDATE customers\n",
    "SET TotalCharges = NULL\n",
    "WHERE TotalCharges = '';\n",
    "\n",
    "ALTER TABLE customers\n",
    "ADD COLUMN TotalCharges_REAL REAL;\n",
    "\n",
    "UPDATE customers\n",
    "SET TotalCharges_REAL = CAST(TotalCharges AS REAL);\n",
    "\n",
    "ALTER TABLE customers DROP COLUMN TotalCharges;\n",
    "ALTER TABLE customers RENAME COLUMN TotalCharges_REAL TO TotalCharges;\n",
    "\n",
    "\n",
    "UPDATE customers\n",
    "SET MultipleLines = 'No' WHERE MultipleLines = 'No phone service';\n",
    "\n",
    "UPDATE customers\n",
    "SET OnlineSecurity = 'No' WHERE OnlineSecurity = 'No internet service';\n",
    "\n",
    "UPDATE customers\n",
    "SET OnlineBackup = 'No' WHERE OnlineBackup = 'No internet service';\n",
    "\n",
    "UPDATE customers\n",
    "SET DeviceProtection = 'No' WHERE DeviceProtection = 'No internet service';\n",
    "\n",
    "UPDATE customers\n",
    "SET TechSupport = 'No' WHERE TechSupport = 'No internet service';\n",
    "\n",
    "UPDATE customers\n",
    "SET StreamingTV = 'No' WHERE StreamingTV = 'No internet service';\n",
    "\n",
    "UPDATE customers\n",
    "SET StreamingMovies = 'No' WHERE StreamingMovies = 'No internet service';"
   ]
  },
  {
   "cell_type": "markdown",
   "metadata": {},
   "source": [
    "### **Verification**\n",
    "\n",
    "After cleaning, we verified that:\n",
    "1. **TotalCharges is now stored as REAL (numeric format).**\n",
    "2. **Categorical columns no longer have `\"No phone service\"` or `\"No internet service\"`, only `\"Yes\"` or `\"No\"`.**\n",
    "\n",
    "#### **Verification Queries**\n",
    "```sql\n",
    "PRAGMA table_info(customers);\n",
    "\n",
    "SELECT DISTINCT MultipleLines, OnlineSecurity, OnlineBackup, DeviceProtection, TechSupport, StreamingTV, StreamingMovies \n",
    "FROM customers;\n",
    "```"
   ]
  }
 ],
 "metadata": {
  "kernelspec": {
   "display_name": "sql_project",
   "language": "python",
   "name": "python3"
  },
  "language_info": {
   "codemirror_mode": {
    "name": "ipython",
    "version": 3
   },
   "file_extension": ".py",
   "mimetype": "text/x-python",
   "name": "python",
   "nbconvert_exporter": "python",
   "pygments_lexer": "ipython3",
   "version": "3.11.11"
  }
 },
 "nbformat": 4,
 "nbformat_minor": 2
}
